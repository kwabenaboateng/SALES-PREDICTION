{
  "cells": [
    {
      "cell_type": "markdown",
      "metadata": {
        "id": "view-in-github",
        "colab_type": "text"
      },
      "source": [
        "<a href=\"https://colab.research.google.com/github/DeeeTeeee/salesprediction/blob/main/salespredictions.ipynb\" target=\"_parent\"><img src=\"https://colab.research.google.com/assets/colab-badge.svg\" alt=\"Open In Colab\"/></a>"
      ]
    },
    {
      "cell_type": "markdown",
      "metadata": {
        "id": "ce31f6c8"
      },
      "source": [
        "#STORE SALES Prediction."
      ],
      "id": "ce31f6c8"
    },
    {
      "cell_type": "markdown",
      "metadata": {
        "id": "94e8877d"
      },
      "source": [
        "## Description"
      ],
      "id": "94e8877d"
    },
    {
      "cell_type": "markdown",
      "metadata": {
        "id": "e5a04704"
      },
      "source": [
        "This is a time-series forecasting project.In this project we'll train a model that accurately predicts the sales of items in different stores.We'll use store sales data from large Ecuadorian-based grocery retailer."
      ],
      "id": "e5a04704"
    },
    {
      "cell_type": "markdown",
      "metadata": {
        "id": "c64adcee"
      },
      "source": [
        "## Hypothesis"
      ],
      "id": "c64adcee"
    },
    {
      "cell_type": "markdown",
      "metadata": {
        "id": "1e617900"
      },
      "source": [
        "Null hypothesis: Stores with products onpromotion make more sales than stores without onpromotion products."
      ],
      "id": "1e617900"
    },
    {
      "cell_type": "markdown",
      "metadata": {
        "id": "2d9d0c1e"
      },
      "source": [
        "Alternative hypothesis: Stores with no promotion products make more sales than stores with onpromotion products."
      ],
      "id": "2d9d0c1e"
    },
    {
      "cell_type": "markdown",
      "metadata": {
        "id": "0644bb8d"
      },
      "source": [
        "## Questions"
      ],
      "id": "0644bb8d"
    },
    {
      "cell_type": "markdown",
      "metadata": {
        "id": "ade7aa7a"
      },
      "source": [
        "1. Is the train dataset complete (has all the required dates)?\n",
        "2. Which dates have the lowest and highest sales for each year?\n",
        "3. Did the earthquake impact sales?\n",
        "4. Are certain groups of stores selling more products? (Cluster, city, state, type)\n",
        "5. Are sales affected by promotions, oil prices and holidays?\n",
        "6. What analysis can we get from the date and its extractable features?\n",
        "7. What is the difference between RMSLE, RMSE, MSE (or why is the MAE greater than all of them?)\n",
        "8. What are the annual sales that each store make.\n",
        "9. How many sales are made on the 1st quarter of each year\n",
        "10. What is the trend of the sales over the years?"
      ],
      "id": "ade7aa7a"
    },
    {
      "cell_type": "markdown",
      "metadata": {
        "id": "c7ce2c1c"
      },
      "source": [
        "# Setup"
      ],
      "id": "c7ce2c1c"
    },
    {
      "cell_type": "markdown",
      "metadata": {
        "id": "e69270ee"
      },
      "source": [
        "## Installations"
      ],
      "id": "e69270ee"
    },
    {
      "cell_type": "code",
      "execution_count": 2,
      "metadata": {
        "id": "188dd5e2"
      },
      "outputs": [],
      "source": [
        "#Install Pandas Profiling Package\n",
        "#pip install pandas-profiling\n"
      ],
      "id": "188dd5e2"
    },
    {
      "cell_type": "markdown",
      "metadata": {
        "id": "ad735eb2"
      },
      "source": [
        "## Importations"
      ],
      "id": "ad735eb2"
    },
    {
      "cell_type": "code",
      "execution_count": 3,
      "metadata": {
        "id": "ec055cb1"
      },
      "outputs": [],
      "source": [
        "# Data handling\n",
        "import pandas as pd\n",
        "import numpy as np\n",
        "\n",
        "# Data Visualizations\n",
        "from matplotlib import pyplot as plt\n",
        "\n",
        "# Import seaborn\n",
        "import seaborn as sns\n",
        "\n",
        "# Apply the default theme\n",
        "sns.set_theme()\n",
        "\n",
        "#import sklearn libraries\n",
        "from sklearn.preprocessing import OneHotEncoder,StandardScaler\n",
        "from sklearn.impute import SimpleImputer\n",
        "from sklearn.tree import DecisionTreeRegressor\n",
        "from sklearn.metrics import mean_squared_error\n",
        "from sklearn.metrics import mean_absolute_error\n",
        "from sklearn.metrics import mean_squared_log_error\n",
        "from sklearn.model_selection import cross_val_score\n",
        "from sklearn.model_selection import GridSearchCV\n",
        "import pickle\n",
        "import os\n",
        "import subprocess  #function is used to call the 7-Zip command-line interface with the appropriate arguments.\n",
        "# EDA\n",
        "#from pandas_profiling import ProfileReport\n",
        "from pandas.plotting import scatter_matrix\n",
        "from itertools import product\n",
        "\n",
        "\n",
        "import warnings\n",
        "warnings.filterwarnings('ignore')\n"
      ],
      "id": "ec055cb1"
    },
    {
      "cell_type": "markdown",
      "metadata": {
        "id": "111dc02c"
      },
      "source": [
        "# Data Loading"
      ],
      "id": "111dc02c"
    },
    {
      "cell_type": "markdown",
      "metadata": {
        "id": "2e9312a5"
      },
      "source": [
        "### Here is the section to load the datasets (train, eval, test) and the additional files"
      ],
      "id": "2e9312a5"
    },
    {
      "cell_type": "code",
      "execution_count": 4,
      "metadata": {
        "id": "59a5576b"
      },
      "outputs": [],
      "source": [
        "#importing the datasets\n",
        "train_df=pd.read_csv('/content/train.csv',parse_dates=['date'])\n",
        "events_df=pd.read_csv(\"/content/holidays_events.csv\",parse_dates=['date'])\n",
        "oil_df=pd.read_csv(r\"/content/oil.csv\",parse_dates=['date'])\n",
        "store_df=pd.read_csv(r\"/content/stores.csv\")\n",
        "test_df=pd.read_csv(r\"/content/test.csv\",parse_dates=['date'])\n",
        "\n"
      ],
      "id": "59a5576b"
    },
    {
      "cell_type": "markdown",
      "metadata": {
        "id": "f92d1887"
      },
      "source": [
        "## Training Data"
      ],
      "id": "f92d1887"
    },
    {
      "cell_type": "code",
      "execution_count": null,
      "metadata": {
        "id": "dd80edf0"
      },
      "outputs": [],
      "source": [
        "train_df.head()"
      ],
      "id": "dd80edf0"
    },
    {
      "cell_type": "code",
      "execution_count": null,
      "metadata": {
        "id": "5578633a",
        "scrolled": true
      },
      "outputs": [],
      "source": [
        "train_df.info()"
      ],
      "id": "5578633a"
    },
    {
      "cell_type": "code",
      "execution_count": null,
      "metadata": {
        "id": "8c768d19"
      },
      "outputs": [],
      "source": [
        "train_df.shape"
      ],
      "id": "8c768d19"
    },
    {
      "cell_type": "code",
      "execution_count": null,
      "metadata": {
        "id": "596592fd"
      },
      "outputs": [],
      "source": [
        "train_df.isnull().sum()"
      ],
      "id": "596592fd"
    },
    {
      "cell_type": "markdown",
      "metadata": {
        "id": "8d40c2fa"
      },
      "source": [
        "## Events Data"
      ],
      "id": "8d40c2fa"
    },
    {
      "cell_type": "code",
      "execution_count": null,
      "metadata": {
        "id": "8cc6a553"
      },
      "outputs": [],
      "source": [
        "events_df.head()"
      ],
      "id": "8cc6a553"
    },
    {
      "cell_type": "code",
      "execution_count": null,
      "metadata": {
        "id": "c2a0787a",
        "scrolled": true
      },
      "outputs": [],
      "source": [
        "events_df.info()"
      ],
      "id": "c2a0787a"
    },
    {
      "cell_type": "code",
      "execution_count": 11,
      "metadata": {
        "colab": {
          "base_uri": "https://localhost:8080/"
        },
        "id": "9ad02e05",
        "outputId": "8802683b-9d86-4959-f2c5-7f43878abaa7"
      },
      "outputs": [
        {
          "output_type": "execute_result",
          "data": {
            "text/plain": [
              "(350, 6)"
            ]
          },
          "metadata": {},
          "execution_count": 11
        }
      ],
      "source": [
        "events_df.shape"
      ],
      "id": "9ad02e05"
    },
    {
      "cell_type": "code",
      "execution_count": null,
      "metadata": {
        "id": "c18ed0da"
      },
      "outputs": [],
      "source": [
        "events_df.isnull().sum()"
      ],
      "id": "c18ed0da"
    },
    {
      "cell_type": "markdown",
      "metadata": {
        "id": "e4f86ba8"
      },
      "source": [
        "## Oil Data"
      ],
      "id": "e4f86ba8"
    },
    {
      "cell_type": "code",
      "execution_count": null,
      "metadata": {
        "id": "4cfaf8ed",
        "scrolled": true
      },
      "outputs": [],
      "source": [
        "oil_df.head()"
      ],
      "id": "4cfaf8ed"
    },
    {
      "cell_type": "code",
      "execution_count": null,
      "metadata": {
        "id": "e7895b49"
      },
      "outputs": [],
      "source": [
        "oil_df.info()"
      ],
      "id": "e7895b49"
    },
    {
      "cell_type": "code",
      "execution_count": null,
      "metadata": {
        "id": "30a1734c"
      },
      "outputs": [],
      "source": [
        "oil_df['date'].agg(['min', 'max'])"
      ],
      "id": "30a1734c"
    },
    {
      "cell_type": "code",
      "execution_count": 16,
      "metadata": {
        "id": "f17a988c"
      },
      "outputs": [],
      "source": [
        "#Getting the missing dates\n",
        "oil_missing_dates=pd.date_range(start='2013-01-01', end='2017-08-31').difference(oil_df.date.unique())"
      ],
      "id": "f17a988c"
    },
    {
      "cell_type": "code",
      "execution_count": null,
      "metadata": {
        "id": "a3576bcc"
      },
      "outputs": [],
      "source": [
        "oil_missing_dates"
      ],
      "id": "a3576bcc"
    },
    {
      "cell_type": "code",
      "execution_count": 18,
      "metadata": {
        "id": "918fd6d9"
      },
      "outputs": [],
      "source": [
        "missing_data = pd.DataFrame(oil_missing_dates, columns=['date'])"
      ],
      "id": "918fd6d9"
    },
    {
      "cell_type": "code",
      "execution_count": null,
      "metadata": {
        "id": "a8657e86",
        "scrolled": true
      },
      "outputs": [],
      "source": [
        "#combining the original train data with the missing date dataframe\n",
        "oil_data=pd.concat([oil_df,missing_data],ignore_index= True)\n",
        "oil_data.head()"
      ],
      "id": "a8657e86"
    },
    {
      "cell_type": "code",
      "execution_count": 20,
      "metadata": {
        "id": "9eea9f6c"
      },
      "outputs": [],
      "source": [
        "oil_data['dcoilwtico'].interpolate(method ='linear', limit_direction ='both',inplace=True)"
      ],
      "id": "9eea9f6c"
    },
    {
      "cell_type": "code",
      "execution_count": null,
      "metadata": {
        "id": "f624f431"
      },
      "outputs": [],
      "source": [
        "oil_data.isnull().sum()"
      ],
      "id": "f624f431"
    },
    {
      "cell_type": "code",
      "execution_count": 22,
      "metadata": {
        "colab": {
          "base_uri": "https://localhost:8080/"
        },
        "id": "d9868ab9",
        "outputId": "8d9417dd-4b92-418f-84d3-e7fa7887b039",
        "scrolled": true
      },
      "outputs": [
        {
          "output_type": "execute_result",
          "data": {
            "text/plain": [
              "(1704, 2)"
            ]
          },
          "metadata": {},
          "execution_count": 22
        }
      ],
      "source": [
        "oil_data.shape"
      ],
      "id": "d9868ab9"
    },
    {
      "cell_type": "markdown",
      "metadata": {
        "id": "68585205"
      },
      "source": [
        "## Store Data"
      ],
      "id": "68585205"
    },
    {
      "cell_type": "code",
      "execution_count": null,
      "metadata": {
        "id": "3d0355fc",
        "scrolled": true
      },
      "outputs": [],
      "source": [
        "store_df.head()"
      ],
      "id": "3d0355fc"
    },
    {
      "cell_type": "code",
      "execution_count": null,
      "metadata": {
        "id": "c8f18616",
        "scrolled": true
      },
      "outputs": [],
      "source": [
        "store_df.info()"
      ],
      "id": "c8f18616"
    },
    {
      "cell_type": "code",
      "execution_count": null,
      "metadata": {
        "id": "619662da"
      },
      "outputs": [],
      "source": [
        "store_df.isnull().sum()"
      ],
      "id": "619662da"
    },
    {
      "cell_type": "code",
      "execution_count": null,
      "metadata": {
        "id": "218ec463"
      },
      "outputs": [],
      "source": [
        "store_df.shape"
      ],
      "id": "218ec463"
    },
    {
      "cell_type": "markdown",
      "metadata": {
        "id": "8e524e23"
      },
      "source": [
        "## Test data"
      ],
      "id": "8e524e23"
    },
    {
      "cell_type": "code",
      "execution_count": null,
      "metadata": {
        "id": "4d4cc238"
      },
      "outputs": [],
      "source": [
        "test_df.head()"
      ],
      "id": "4d4cc238"
    },
    {
      "cell_type": "code",
      "execution_count": null,
      "metadata": {
        "id": "4b8a3f79"
      },
      "outputs": [],
      "source": [
        "test_df.info()"
      ],
      "id": "4b8a3f79"
    },
    {
      "cell_type": "code",
      "execution_count": null,
      "metadata": {
        "id": "801fbce9"
      },
      "outputs": [],
      "source": [
        "test_df.isnull().sum()"
      ],
      "id": "801fbce9"
    },
    {
      "cell_type": "code",
      "execution_count": null,
      "metadata": {
        "id": "4bd75a2e"
      },
      "outputs": [],
      "source": [
        "test_df.shape"
      ],
      "id": "4bd75a2e"
    },
    {
      "cell_type": "markdown",
      "metadata": {
        "id": "35d3025c"
      },
      "source": [
        "## Exploratory Data Analysis: EDA"
      ],
      "id": "35d3025c"
    },
    {
      "cell_type": "markdown",
      "metadata": {
        "id": "ae1f6672"
      },
      "source": [
        "## 1. Is the train dataset complete (has all the required dates)?\n"
      ],
      "id": "ae1f6672"
    },
    {
      "cell_type": "code",
      "execution_count": null,
      "metadata": {
        "id": "1f382d98",
        "scrolled": true
      },
      "outputs": [],
      "source": [
        "train_df['date'].agg(['min', 'max'])"
      ],
      "id": "1f382d98"
    },
    {
      "cell_type": "code",
      "execution_count": 32,
      "metadata": {
        "id": "6ac00c24"
      },
      "outputs": [],
      "source": [
        "#Getting the missing dates\n",
        "train_missing_dates=pd.date_range(start='2013-01-01', end='2017-08-15').difference(train_df.date.unique())"
      ],
      "id": "6ac00c24"
    },
    {
      "cell_type": "code",
      "execution_count": null,
      "metadata": {
        "id": "9cd3ee9b"
      },
      "outputs": [],
      "source": [
        "train_missing_dates"
      ],
      "id": "9cd3ee9b"
    },
    {
      "cell_type": "markdown",
      "metadata": {
        "id": "aae7b688"
      },
      "source": [
        "### filling the missing dates"
      ],
      "id": "aae7b688"
    },
    {
      "cell_type": "code",
      "execution_count": 34,
      "metadata": {
        "id": "a7d80652"
      },
      "outputs": [],
      "source": [
        "added_dates=list(product(train_missing_dates,train_df.store_nbr.unique(),train_df.family.unique()))"
      ],
      "id": "a7d80652"
    },
    {
      "cell_type": "code",
      "execution_count": 35,
      "metadata": {
        "id": "1c3ef801"
      },
      "outputs": [],
      "source": [
        "train_missing_data = pd.DataFrame(added_dates, columns=['date','store_nbr','family'])"
      ],
      "id": "1c3ef801"
    },
    {
      "cell_type": "code",
      "execution_count": null,
      "metadata": {
        "id": "b4824773",
        "scrolled": true
      },
      "outputs": [],
      "source": [
        "train_missing_data.head()"
      ],
      "id": "b4824773"
    },
    {
      "cell_type": "code",
      "execution_count": null,
      "metadata": {
        "id": "50b28677"
      },
      "outputs": [],
      "source": [
        "#combining the original train data with the missing date dataframe\n",
        "train_data=pd.concat([train_df,train_missing_data],ignore_index= True)\n",
        "train_data.head()"
      ],
      "id": "50b28677"
    },
    {
      "cell_type": "code",
      "execution_count": null,
      "metadata": {
        "id": "b9a79e52"
      },
      "outputs": [],
      "source": [
        "train_data.duplicated().sum()"
      ],
      "id": "b9a79e52"
    },
    {
      "cell_type": "code",
      "execution_count": null,
      "metadata": {
        "id": "f393fe02"
      },
      "outputs": [],
      "source": [
        "train_data.isna().sum()"
      ],
      "id": "f393fe02"
    },
    {
      "cell_type": "code",
      "execution_count": null,
      "metadata": {
        "id": "8404aca2"
      },
      "outputs": [],
      "source": [
        "train_data.shape"
      ],
      "id": "8404aca2"
    },
    {
      "cell_type": "markdown",
      "metadata": {
        "id": "1240644b"
      },
      "source": [
        "## merging the different csv files into one dataframe"
      ],
      "id": "1240644b"
    },
    {
      "cell_type": "code",
      "execution_count": null,
      "metadata": {
        "id": "e119fa6c",
        "scrolled": true
      },
      "outputs": [],
      "source": [
        "#combining train data with storedata\n",
        "train_store_df=pd.merge(train_data,store_df,on='store_nbr',how='left')\n",
        "train_store_df.head()"
      ],
      "id": "e119fa6c"
    },
    {
      "cell_type": "code",
      "execution_count": null,
      "metadata": {
        "id": "86c36eda",
        "scrolled": true
      },
      "outputs": [],
      "source": [
        "#Combining train_store_df with the events_df on the dates\n",
        "combined_df=pd.merge(train_store_df, events_df, on='date',how='left')\n",
        "combined_df.head()"
      ],
      "id": "86c36eda"
    },
    {
      "cell_type": "code",
      "execution_count": 43,
      "metadata": {
        "id": "6a760c48"
      },
      "outputs": [],
      "source": [
        "df=pd.merge(combined_df,oil_data,on='date',how='left')"
      ],
      "id": "6a760c48"
    },
    {
      "cell_type": "code",
      "execution_count": null,
      "metadata": {
        "id": "58a51d49"
      },
      "outputs": [],
      "source": [
        "df.tail()"
      ],
      "id": "58a51d49"
    },
    {
      "cell_type": "code",
      "execution_count": null,
      "metadata": {
        "id": "09bb21bc"
      },
      "outputs": [],
      "source": [
        "df.isnull().sum()"
      ],
      "id": "09bb21bc"
    },
    {
      "cell_type": "code",
      "execution_count": null,
      "metadata": {
        "id": "38f47aa2"
      },
      "outputs": [],
      "source": [
        "df.shape"
      ],
      "id": "38f47aa2"
    },
    {
      "cell_type": "code",
      "execution_count": 47,
      "metadata": {
        "id": "34a23966"
      },
      "outputs": [],
      "source": [
        "#Changing Index to Date Column\n",
        "df = df.set_index([\"date\"])"
      ],
      "id": "34a23966"
    },
    {
      "cell_type": "markdown",
      "metadata": {
        "id": "84f71a66"
      },
      "source": [
        "## 2. Which dates have the lowest and highest sales for each year?"
      ],
      "id": "84f71a66"
    },
    {
      "cell_type": "code",
      "execution_count": null,
      "metadata": {
        "id": "764de11b"
      },
      "outputs": [],
      "source": [
        "#Extracting the dates with lowest sales\n",
        "lowest_sales = df.groupby(df.index.year)['sales'].idxmin()\n",
        "lowest_sales"
      ],
      "id": "764de11b"
    },
    {
      "cell_type": "code",
      "execution_count": null,
      "metadata": {
        "id": "e3629542"
      },
      "outputs": [],
      "source": [
        "#Extracting dates with the highest sales in each year\n",
        "highest_sales = df.groupby(df.index.year)['sales'].idxmax()\n",
        "highest_sales"
      ],
      "id": "e3629542"
    },
    {
      "cell_type": "markdown",
      "metadata": {
        "id": "600e2748"
      },
      "source": [
        "The beginning of each year recorded the lowest sales of that year this can be attributed to the feastive season and many people are still home. As for the highest sales that was varied across the different years."
      ],
      "id": "600e2748"
    },
    {
      "cell_type": "markdown",
      "metadata": {
        "id": "649d4a9b"
      },
      "source": [
        "## 3. Did the earthquake impact sales?"
      ],
      "id": "649d4a9b"
    },
    {
      "cell_type": "code",
      "execution_count": 50,
      "metadata": {
        "id": "7baa29f2"
      },
      "outputs": [],
      "source": [
        "# Define the date of the earthquake happend\n",
        "earthquake_date = pd.to_datetime(\"2016-04-16\")"
      ],
      "id": "7baa29f2"
    },
    {
      "cell_type": "code",
      "execution_count": null,
      "metadata": {
        "id": "6169a86c"
      },
      "outputs": [],
      "source": [
        "# Get the sales two weeks before the earthquake\n",
        "before_sales = df.loc[earthquake_date - pd.Timedelta(weeks=2):earthquake_date, 'sales']\n",
        "print(\"Sales two weeks before {}: {}\".format(earthquake_date, before_sales))"
      ],
      "id": "6169a86c"
    },
    {
      "cell_type": "code",
      "execution_count": null,
      "metadata": {
        "id": "6908c21c"
      },
      "outputs": [],
      "source": [
        "# Get the sales two weeks after the earthquake\n",
        "after_sales = df.loc[earthquake_date :earthquake_date + pd.Timedelta(weeks=2),'sales']\n",
        "print(\"Sales two weeks after {}: {}\".format(earthquake_date, after_sales))"
      ],
      "id": "6908c21c"
    },
    {
      "cell_type": "code",
      "execution_count": null,
      "metadata": {
        "id": "c45576c9"
      },
      "outputs": [],
      "source": [
        "#Extracting the dates 2 weeks before the earthquake\n",
        "before_df = df.loc[earthquake_date - pd.Timedelta(weeks=2):earthquake_date]\n",
        "\n",
        "#Extracting the dates 2 weeks after the earthquake\n",
        "after_df = df.loc[earthquake_date:earthquake_date + pd.Timedelta(weeks=2)]\n",
        "\n",
        "# Plot the sales before and after the earthquake\n",
        "plt.figure(figsize=(20, 10))\n",
        "Before=plt.plot(before_df.index, before_df['sales'], label='Before')\n",
        "After=plt.plot(after_df.index, after_df['sales'], label='After')\n",
        "\n",
        "plt.axvline(earthquake_date, color='r', linestyle='--')\n",
        "\n",
        "plt.title(\"Sales for 2 Weeks Before and After {}\".format(earthquake_date))\n",
        "plt.xlabel(\"Date\")\n",
        "plt.ylabel(\"Sales\")\n",
        "plt.legend()\n",
        "plt.show()"
      ],
      "id": "c45576c9"
    },
    {
      "cell_type": "markdown",
      "metadata": {
        "id": "68443c62"
      },
      "source": [
        "We did a comparison of sales before the earthquake 2 weeks before and after, we can conclude after the earthquake the sales increased significantly"
      ],
      "id": "68443c62"
    },
    {
      "cell_type": "markdown",
      "metadata": {
        "id": "39cc9373"
      },
      "source": [
        "### 4. Are certain groups of stores selling more products? (Cluster, city, state, type)"
      ],
      "id": "39cc9373"
    },
    {
      "cell_type": "code",
      "execution_count": null,
      "metadata": {
        "id": "a2e01893"
      },
      "outputs": [],
      "source": [
        "# Group the data by cluster\n",
        "cluster_groups = df.groupby(['cluster'])['sales'].sum()\n",
        "plt.figure(figsize=(15, 10))\n",
        "cluster_groups.plot(kind = 'barh')\n",
        "\n",
        "# Add a title and axis labels\n",
        "plt.title(\"Total Sales per Cluster\")\n",
        "plt.xlabel(\"Total Sales in Millions\")\n",
        "plt.ylabel(\"Cluster \")\n",
        "plt.show()"
      ],
      "id": "a2e01893"
    },
    {
      "cell_type": "markdown",
      "metadata": {
        "id": "5165bedf"
      },
      "source": [
        "From the chart we see that cluster 14,6 and 8 are the top 3 with most sales of mote than 1.0 million."
      ],
      "id": "5165bedf"
    },
    {
      "cell_type": "code",
      "execution_count": null,
      "metadata": {
        "id": "ddefedcd"
      },
      "outputs": [],
      "source": [
        "# Group the data by cluster\n",
        "city_groups = df.groupby(['city'])['sales'].sum()\n",
        "plt.figure(figsize=(15, 10))\n",
        "city_groups.plot(kind = 'barh')\n",
        "\n",
        "# Add a title and axis labels\n",
        "plt.title(\"Total Sales per City\")\n",
        "plt.xlabel(\"Total Sales in Millions\")\n",
        "plt.ylabel(\"City\")\n",
        "\n",
        "plt.show()"
      ],
      "id": "ddefedcd"
    },
    {
      "cell_type": "markdown",
      "metadata": {
        "id": "4c8ab4fc"
      },
      "source": [
        "From the chart we see that Quito city has the most sales compared to the rest and this is because many stores are located in  Quito."
      ],
      "id": "4c8ab4fc"
    },
    {
      "cell_type": "code",
      "execution_count": null,
      "metadata": {
        "id": "72735ef8"
      },
      "outputs": [],
      "source": [
        "# Group the data by cluster\n",
        "state_groups = df.groupby(['state'])['sales'].sum()\n",
        "plt.figure(figsize=(15, 10))\n",
        "state_groups.plot(kind = 'barh')\n",
        "\n",
        "# Add a title and axis labels\n",
        "plt.title(\"Total Sales per State\")\n",
        "plt.xlabel(\"Total Sales in Millions\")\n",
        "plt.ylabel(\"State\")\n",
        "\n",
        "plt.show()"
      ],
      "id": "72735ef8"
    },
    {
      "cell_type": "code",
      "execution_count": null,
      "metadata": {
        "id": "48b60308"
      },
      "outputs": [],
      "source": [
        "# Group the data by cluster\n",
        "type_groups = df.groupby(['type_x'])['sales'].sum()\n",
        "plt.figure(figsize=(15, 10))\n",
        "type_groups.plot(kind = 'bar')\n",
        "\n",
        "# Add a title and axis labels\n",
        "plt.title(\"Total Sales by Type X\")\n",
        "plt.xlabel(\"Type\")\n",
        "plt.ylabel(\"Total Sales in Millions\")\n",
        "\n",
        "plt.show()"
      ],
      "id": "48b60308"
    },
    {
      "cell_type": "markdown",
      "metadata": {
        "id": "a1d0e5db"
      },
      "source": [
        "### 5. Are sales affected by promotions, oil prices and holidays?"
      ],
      "id": "a1d0e5db"
    },
    {
      "cell_type": "code",
      "execution_count": 58,
      "metadata": {
        "id": "30f10c2f"
      },
      "outputs": [],
      "source": [
        "#computing the Pearson correlation coefficient using corr()\n",
        "corr_matrix= df.corr()"
      ],
      "id": "30f10c2f"
    },
    {
      "cell_type": "code",
      "execution_count": 59,
      "metadata": {
        "colab": {
          "base_uri": "https://localhost:8080/"
        },
        "id": "25d912f7",
        "outputId": "d154621d-c86f-4521-c131-0c8153c10826",
        "scrolled": true
      },
      "outputs": [
        {
          "output_type": "execute_result",
          "data": {
            "text/plain": [
              "sales          1.000000\n",
              "onpromotion    0.428241\n",
              "id             0.086102\n",
              "store_nbr      0.041273\n",
              "cluster        0.038537\n",
              "dcoilwtico    -0.074779\n",
              "Name: sales, dtype: float64"
            ]
          },
          "metadata": {},
          "execution_count": 59
        }
      ],
      "source": [
        "#the Pearson correlation coefficient is to measure the strength of the relationship btwn variables with numeric values\n",
        "corr_matrix['sales'].sort_values(ascending=False)"
      ],
      "id": "25d912f7"
    },
    {
      "cell_type": "code",
      "execution_count": 60,
      "metadata": {
        "id": "6d4f95a7"
      },
      "outputs": [],
      "source": [
        "#another method to check the correlation is the pandas scatter_matrix function which plots\n",
        "#every numerical attribute against every other numerical attribute.\n",
        "#attributes=['onpromotion','sales','dcoilwtico']\n",
        "#scatter_matrix(df[attributes],figsize=(18,20))\n",
        "#plt.show()"
      ],
      "id": "6d4f95a7"
    },
    {
      "cell_type": "markdown",
      "metadata": {
        "id": "f1180c62"
      },
      "source": [
        "### 6. What analysis can we get from the date and its extractable features?"
      ],
      "id": "f1180c62"
    },
    {
      "cell_type": "code",
      "execution_count": null,
      "metadata": {
        "id": "f4764a9f"
      },
      "outputs": [],
      "source": [
        "#Using the month extracted fromthe date to get monthly trend of sales\n",
        "monthly_sales = df.groupby(df.index.month)['sales'].sum()\n",
        "monthly_sales.plot(linewidth=1.2, figsize=(10,5))\n",
        "\n",
        "# Add a title and axis labels\n",
        "plt.title(\"Trend of Monthly Sales\")\n",
        "plt.xlabel(\"Month\")\n",
        "plt.ylabel(\"Total Sales (in Millions) \")\n",
        "\n",
        "plt.show()"
      ],
      "id": "f4764a9f"
    },
    {
      "cell_type": "code",
      "execution_count": null,
      "metadata": {
        "id": "82237adf"
      },
      "outputs": [],
      "source": [
        "# Using the days of the week extracted from date get the trend of sales of the days of the week\n",
        "day_sales = df.groupby(df.index.day_name())['sales'].sum()\n",
        "day_sales.plot(linewidth=1.2, figsize=(20,10))\n",
        "\n",
        "# Add a title and axis labels\n",
        "plt.title(\"Trend of Monthly Sales\")\n",
        "plt.xlabel(\"Days of the Week\")\n",
        "plt.ylabel(\"Total Sales (in Millions) \")\n",
        "\n",
        "plt.show()"
      ],
      "id": "82237adf"
    },
    {
      "cell_type": "markdown",
      "metadata": {
        "id": "5c08ed0c"
      },
      "source": [
        "### 7. What is the difference between RMSLE, RMSE, MSE (or why is the MAE greater than all of them?)\n"
      ],
      "id": "5c08ed0c"
    },
    {
      "cell_type": "markdown",
      "metadata": {
        "id": "f89ae237"
      },
      "source": [
        "### 8.What are the annual sales that each store make"
      ],
      "id": "f89ae237"
    },
    {
      "cell_type": "code",
      "execution_count": 63,
      "metadata": {
        "id": "8b8d81a5"
      },
      "outputs": [],
      "source": [
        "# Group the data by store and year\n",
        "annual_sales = df.groupby(['store_nbr',df.index.year])['sales'].agg('sum')"
      ],
      "id": "8b8d81a5"
    },
    {
      "cell_type": "code",
      "execution_count": 64,
      "metadata": {
        "id": "6b81ca49"
      },
      "outputs": [],
      "source": [
        "# Reset the index to make the store and year columns columns\n",
        "annual_sales = annual_sales.reset_index()"
      ],
      "id": "6b81ca49"
    },
    {
      "cell_type": "code",
      "execution_count": 65,
      "metadata": {
        "id": "1e72ac69"
      },
      "outputs": [],
      "source": [
        "# Pivot the table so that each row represents a store and columns are the year\n",
        "annual_sales = annual_sales.pivot(index='store_nbr', columns='date', values='sales')"
      ],
      "id": "1e72ac69"
    },
    {
      "cell_type": "code",
      "execution_count": null,
      "metadata": {
        "id": "3837e175",
        "scrolled": false
      },
      "outputs": [],
      "source": [
        "# Plot the yearly sales for each store\n",
        "annual_sales.plot(kind='bar', stacked=True, figsize=(20,10))\n",
        "\n",
        "# Add a title and axis labels\n",
        "plt.title(\"Annual_sales Sales by Store\")\n",
        "plt.xlabel(\"Store Numbers\")\n",
        "plt.ylabel(\"Total Sales (in Millions) \")\n",
        "\n",
        "plt.show()"
      ],
      "id": "3837e175"
    },
    {
      "cell_type": "markdown",
      "metadata": {
        "id": "ca5fb48d"
      },
      "source": [
        "### 9. How many sales were made in the 1st quater of each year"
      ],
      "id": "ca5fb48d"
    },
    {
      "cell_type": "code",
      "execution_count": 67,
      "metadata": {
        "id": "82ca045b"
      },
      "outputs": [],
      "source": [
        "#Extracting the quaterly sales\n",
        "Quarterly_sales = df.groupby([df.index.to_period('Q'),df.index.year])['sales'].sum()"
      ],
      "id": "82ca045b"
    },
    {
      "cell_type": "code",
      "execution_count": 68,
      "metadata": {
        "id": "a08ac59c"
      },
      "outputs": [],
      "source": [
        "# filter for 1st quarter\n",
        "first_quarter_data = Quarterly_sales.loc[['2013Q1','2014Q1','2015Q1','2016Q1','2017Q1']]"
      ],
      "id": "a08ac59c"
    },
    {
      "cell_type": "code",
      "execution_count": null,
      "metadata": {
        "id": "885d8733"
      },
      "outputs": [],
      "source": [
        "# create bar chart to represent the sales made in the 1st quater of each year\n",
        "first_quarter_data.plot(kind='bar', stacked=False, figsize=(15,10))\n",
        "plt.xticks(rotation=45)\n",
        "plt.title('Sales Trend for 2013 and 2017')\n",
        "plt.xlabel('Year')\n",
        "plt.ylabel('Sales')\n",
        "plt.show()"
      ],
      "id": "885d8733"
    },
    {
      "cell_type": "markdown",
      "metadata": {
        "id": "75d8c080"
      },
      "source": [
        "There has been a steady growth across the years. The sales keep growing Quarter on Quarter every year."
      ],
      "id": "75d8c080"
    },
    {
      "cell_type": "markdown",
      "metadata": {
        "id": "0fea35ed"
      },
      "source": [
        "### 10. What is the trend of the sales over the years?"
      ],
      "id": "0fea35ed"
    },
    {
      "cell_type": "code",
      "execution_count": null,
      "metadata": {
        "id": "3525d5ec"
      },
      "outputs": [],
      "source": [
        "#Trend of sales over the years\n",
        "df['sales'].plot(linewidth=0.5, figsize=(20,10))\n",
        "plt.title('Sales Trend for 2013 and 2017')\n",
        "plt.xlabel('Year')\n",
        "plt.ylabel('Sales')\n",
        "plt.show()"
      ],
      "id": "3525d5ec"
    },
    {
      "cell_type": "code",
      "source": [
        "# df.to_csv('df.csv')"
      ],
      "metadata": {
        "id": "sHhQHhg6hcE3"
      },
      "id": "sHhQHhg6hcE3",
      "execution_count": 71,
      "outputs": []
    },
    {
      "cell_type": "markdown",
      "metadata": {
        "id": "d9d2ce60"
      },
      "source": [
        "# Feature Processing & Engineering"
      ],
      "id": "d9d2ce60"
    },
    {
      "cell_type": "markdown",
      "metadata": {
        "id": "1af2e77d"
      },
      "source": [
        "## New Features Creation"
      ],
      "id": "1af2e77d"
    },
    {
      "cell_type": "code",
      "source": [
        "# import pandas as pd\n",
        "\n",
        "# # Load the CSV file\n",
        "# df = pd.read_csv('df.csv')\n",
        "\n",
        "# # Print the DataFrame\n",
        "# df.head(2)\n"
      ],
      "metadata": {
        "id": "BaSBrYlRiWDl"
      },
      "id": "BaSBrYlRiWDl",
      "execution_count": 72,
      "outputs": []
    },
    {
      "cell_type": "code",
      "execution_count": 73,
      "metadata": {
        "id": "771c8707"
      },
      "outputs": [],
      "source": [
        "#Creating the Day, Month and Year column from the Date Column\n",
        "df['year'] = df.index.year\n",
        "df['month'] =df.index.month\n",
        "df['day']=df.index.day\n",
        "df['dayofweek']=df.index.weekday\n",
        "df['end_month']=df.index.is_month_end"
      ],
      "id": "771c8707"
    },
    {
      "cell_type": "code",
      "execution_count": 74,
      "metadata": {
        "id": "c395e1da"
      },
      "outputs": [],
      "source": [
        "# categorizing the products\n",
        "food_families = ['BEVERAGES', 'BREAD/BAKERY', 'FROZEN FOODS', 'MEATS', 'PREPARED FOODS', 'DELI','PRODUCE', 'DAIRY','POULTRY','EGGS','SEAFOOD']\n",
        "df['family'] = np.where(df['family'].isin(food_families), 'FOODS', df['family'])\n",
        "home_families = ['HOME AND KITCHEN I', 'HOME AND KITCHEN II', 'HOME APPLIANCES']\n",
        "df['family'] = np.where(df['family'].isin(home_families), 'HOME', df['family'])\n",
        "clothing_families = ['LINGERIE', 'LADYSWARE']\n",
        "df['family'] = np.where(df['family'].isin(clothing_families), 'CLOTHING', df['family'])\n",
        "grocery_families = ['GROCERY I', 'GROCERY II']\n",
        "df['family'] = np.where(df['family'].isin(grocery_families), 'GROCERY', df['family'])\n",
        "stationery_families = ['BOOKS', 'MAGAZINES','SCHOOL AND OFFICE SUPPLIES']\n",
        "df['family'] = np.where(df['family'].isin(stationery_families), 'STATIONERY', df['family'])\n",
        "cleaning_families = ['HOME CARE', 'BABY CARE','PERSONAL CARE']\n",
        "df['family'] = np.where(df['family'].isin(cleaning_families), 'CLEANING', df['family'])\n",
        "hardware_families = ['PLAYERS AND ELECTRONICS','HARDWARE']\n",
        "df['family'] = np.where(df['family'].isin(hardware_families), 'HARDWARE', df['family'])\n",
        "others_families = ['AUTOMOTIVE', 'BEAUTY','CELEBRATION', 'LADIESWEAR', 'LAWN AND GARDEN', 'LIQUOR,WINE,BEER',  'PET SUPPLIES']\n",
        "df['family'] = np.where(df['family'].isin(others_families), 'OTHERS', df['family'])\n",
        "\n",
        ""
      ],
      "id": "c395e1da"
    },
    {
      "cell_type": "code",
      "source": [
        "\n",
        "df['family'].unique()"
      ],
      "metadata": {
        "id": "IbwWV8n0gq7j"
      },
      "id": "IbwWV8n0gq7j",
      "execution_count": null,
      "outputs": []
    },
    {
      "cell_type": "code",
      "execution_count": 76,
      "metadata": {
        "id": "43f094b3"
      },
      "outputs": [],
      "source": [
        "df.rename(columns = {\"type_x\":\"store_type\",\"family\":\"products\"}, inplace = True)"
      ],
      "id": "43f094b3"
    },
    {
      "cell_type": "code",
      "execution_count": null,
      "metadata": {
        "id": "0afdd44c"
      },
      "outputs": [],
      "source": [
        "df.head()"
      ],
      "id": "0afdd44c"
    },
    {
      "cell_type": "code",
      "execution_count": 78,
      "metadata": {
        "id": "a1aa6b71"
      },
      "outputs": [],
      "source": [
        "df.drop(['id','locale','locale_name','description','transferred','city','type_y'],axis=1,inplace=True)"
      ],
      "id": "a1aa6b71"
    },
    {
      "cell_type": "code",
      "execution_count": 79,
      "metadata": {
        "id": "d97e0a5b",
        "scrolled": false
      },
      "outputs": [],
      "source": [
        "df.reset_index(inplace=True)"
      ],
      "id": "d97e0a5b"
    },
    {
      "cell_type": "code",
      "execution_count": null,
      "metadata": {
        "id": "14021e9d",
        "scrolled": false
      },
      "outputs": [],
      "source": [
        "df.head(5)"
      ],
      "id": "14021e9d"
    },
    {
      "cell_type": "code",
      "execution_count": null,
      "metadata": {
        "id": "0f6d1136",
        "scrolled": false
      },
      "outputs": [],
      "source": [
        "df.isnull().sum()"
      ],
      "id": "0f6d1136"
    },
    {
      "cell_type": "code",
      "execution_count": 82,
      "metadata": {
        "id": "2086103d"
      },
      "outputs": [],
      "source": [
        "df['sales'].fillna(0,inplace=True)"
      ],
      "id": "2086103d"
    },
    {
      "cell_type": "code",
      "execution_count": null,
      "metadata": {
        "id": "82429e9a"
      },
      "outputs": [],
      "source": [
        "df['products'].unique()"
      ],
      "id": "82429e9a"
    },
    {
      "cell_type": "code",
      "execution_count": null,
      "metadata": {
        "id": "d525398d"
      },
      "outputs": [],
      "source": [
        "df['state'].unique()"
      ],
      "id": "d525398d"
    },
    {
      "cell_type": "code",
      "execution_count": null,
      "metadata": {
        "id": "78bd09df"
      },
      "outputs": [],
      "source": [
        "df['store_type'].unique()"
      ],
      "id": "78bd09df"
    },
    {
      "cell_type": "markdown",
      "metadata": {
        "id": "33828ee0"
      },
      "source": [
        "## Data spliting"
      ],
      "id": "33828ee0"
    },
    {
      "cell_type": "code",
      "execution_count": 86,
      "metadata": {
        "id": "171e790a"
      },
      "outputs": [],
      "source": [
        "# Calculate the number of rows in the data\n",
        "n_rows = df.shape[0]\n",
        "\n",
        "# Calculate the split point\n",
        "split_point = int(n_rows * 0.85)\n",
        "\n",
        "# Select the first 85% of the rows as the training data\n",
        "X_train = df.iloc[:split_point]\n",
        "y_train = X_train['sales']\n",
        "X_train = X_train.drop('sales', axis=1)\n",
        "\n",
        "# Select the remaining 15% of the rows as the validation data\n",
        "X_eval = df.iloc[split_point:]\n",
        "y_eval = X_eval['sales']\n",
        "X_eval = X_eval.drop('sales', axis=1)\n"
      ],
      "id": "171e790a"
    },
    {
      "cell_type": "code",
      "execution_count": null,
      "metadata": {
        "id": "39410508"
      },
      "outputs": [],
      "source": [
        "X_train.shape,X_eval.shape,y_train.shape,y_eval.shape"
      ],
      "id": "39410508"
    },
    {
      "cell_type": "markdown",
      "metadata": {
        "id": "4cb156d2"
      },
      "source": [
        "## Impute Missing Values"
      ],
      "id": "4cb156d2"
    },
    {
      "cell_type": "code",
      "execution_count": 88,
      "metadata": {
        "id": "d2877cba"
      },
      "outputs": [],
      "source": [
        "categorical_columns = ['products', 'end_month', 'store_type', 'state']"
      ],
      "id": "d2877cba"
    },
    {
      "cell_type": "code",
      "execution_count": 89,
      "metadata": {
        "id": "34dcd188"
      },
      "outputs": [],
      "source": [
        "numerical_columns =['store_nbr','onpromotion','cluster','dcoilwtico','year','month','day','dayofweek']"
      ],
      "id": "34dcd188"
    },
    {
      "cell_type": "code",
      "execution_count": 90,
      "metadata": {
        "id": "4ded5ca3"
      },
      "outputs": [],
      "source": [
        "'''creating copy of the categorical features and numerical features\n",
        "before imputing null value to avoid modifying the orginal dataset'''\n",
        "\n",
        "X_train_cat = X_train[categorical_columns].copy()\n",
        "X_train_num = X_train[numerical_columns].copy()\n",
        "\n",
        "X_eval_cat = X_eval[categorical_columns].copy()\n",
        "X_eval_num = X_eval[numerical_columns].copy()"
      ],
      "id": "4ded5ca3"
    },
    {
      "cell_type": "code",
      "execution_count": 91,
      "metadata": {
        "id": "7cb4663d"
      },
      "outputs": [],
      "source": [
        "# Creating imputer variables\n",
        "numerical_imputer = SimpleImputer(strategy = \"mean\")\n",
        "categorical_imputer = SimpleImputer(strategy = \"most_frequent\")"
      ],
      "id": "7cb4663d"
    },
    {
      "cell_type": "code",
      "execution_count": 92,
      "metadata": {
        "id": "e315c29a"
      },
      "outputs": [],
      "source": [
        "# Fitting the Imputer\n",
        "X_train_cat_imputed = categorical_imputer.fit_transform(X_train_cat)\n",
        "X_train_num_imputed = numerical_imputer.fit_transform(X_train_num)\n",
        "\n",
        "X_eval_cat_imputed = categorical_imputer.fit_transform(X_eval_cat)\n",
        "X_eval_num_imputed = numerical_imputer.fit_transform(X_eval_num)"
      ],
      "id": "e315c29a"
    },
    {
      "cell_type": "markdown",
      "metadata": {
        "id": "78dfb0f3"
      },
      "source": [
        "## Features Encoding"
      ],
      "id": "78dfb0f3"
    },
    {
      "cell_type": "code",
      "execution_count": 93,
      "metadata": {
        "id": "dc85f567"
      },
      "outputs": [],
      "source": [
        "encoder=OneHotEncoder(handle_unknown='ignore')"
      ],
      "id": "dc85f567"
    },
    {
      "cell_type": "code",
      "execution_count": 94,
      "metadata": {
        "id": "efce4c14"
      },
      "outputs": [],
      "source": [
        "# encoding the xtrain categories and converting to a dataframe\n",
        "X_train_cat_encoded = encoder.fit(X_train_cat_imputed)\n",
        "X_train_cat_encoded = pd.DataFrame(encoder.transform(X_train_cat_imputed).toarray(),\n",
        "                                   columns=encoder.get_feature_names_out(categorical_columns))"
      ],
      "id": "efce4c14"
    },
    {
      "cell_type": "code",
      "execution_count": 95,
      "metadata": {
        "id": "2964d914"
      },
      "outputs": [],
      "source": [
        "# encoding the xeval categories and converting to a dataframe\n",
        "X_eval_cat_encoded = encoder.fit(X_eval_cat_imputed)\n",
        "X_eval_cat_encoded = pd.DataFrame(encoder.transform(X_eval_cat_imputed).toarray(),\n",
        "                                   columns=encoder.get_feature_names_out(categorical_columns))"
      ],
      "id": "2964d914"
    },
    {
      "cell_type": "markdown",
      "metadata": {
        "id": "ee88489c"
      },
      "source": [
        "## Data scalling"
      ],
      "id": "ee88489c"
    },
    {
      "cell_type": "code",
      "execution_count": 96,
      "metadata": {
        "id": "19463ba3"
      },
      "outputs": [],
      "source": [
        "scaler= StandardScaler()"
      ],
      "id": "19463ba3"
    },
    {
      "cell_type": "code",
      "execution_count": 97,
      "metadata": {
        "id": "a024510b"
      },
      "outputs": [],
      "source": [
        "X_train_num_scaled = scaler.fit_transform(X_train_num_imputed)\n",
        "X_train_num_sc = pd.DataFrame(X_train_num_scaled, columns = numerical_columns)"
      ],
      "id": "a024510b"
    },
    {
      "cell_type": "code",
      "execution_count": 98,
      "metadata": {
        "id": "88054eb2"
      },
      "outputs": [],
      "source": [
        "X_eval_num_scaled = scaler.fit_transform(X_eval_num_imputed)\n",
        "X_eval_num_sc = pd.DataFrame(X_eval_num_scaled, columns = numerical_columns)"
      ],
      "id": "88054eb2"
    },
    {
      "cell_type": "markdown",
      "metadata": {
        "id": "44d6dfb3"
      },
      "source": [
        "## Combining the xtrain cat and xtrain num"
      ],
      "id": "44d6dfb3"
    },
    {
      "cell_type": "code",
      "execution_count": 99,
      "metadata": {
        "id": "5bb7ed15"
      },
      "outputs": [],
      "source": [
        "X_train_df = pd.concat([X_train_num_sc,X_train_cat_encoded], axis =1)\n",
        "X_eval_df = pd.concat([X_eval_num_sc,X_eval_cat_encoded], axis =1)"
      ],
      "id": "5bb7ed15"
    },
    {
      "cell_type": "code",
      "execution_count": null,
      "metadata": {
        "id": "73764dfd"
      },
      "outputs": [],
      "source": [
        "X_train_df.head()"
      ],
      "id": "73764dfd"
    },
    {
      "cell_type": "code",
      "execution_count": null,
      "metadata": {
        "id": "c7065061",
        "scrolled": true
      },
      "outputs": [],
      "source": [
        "X_eval_df.head()"
      ],
      "id": "c7065061"
    },
    {
      "cell_type": "markdown",
      "metadata": {
        "id": "5f5f690f"
      },
      "source": [
        "## Machine learning models"
      ],
      "id": "5f5f690f"
    },
    {
      "cell_type": "markdown",
      "metadata": {
        "id": "23affb8f"
      },
      "source": [
        "### Decision Tree Regression Model"
      ],
      "id": "23affb8f"
    },
    {
      "cell_type": "code",
      "execution_count": 102,
      "metadata": {
        "colab": {
          "base_uri": "https://localhost:8080/",
          "height": 75
        },
        "id": "c1ed7441",
        "outputId": "49c8f9a4-d68e-4a49-eb63-7040fded54df"
      },
      "outputs": [
        {
          "output_type": "execute_result",
          "data": {
            "text/plain": [
              "DecisionTreeRegressor()"
            ],
            "text/html": [
              "<style>#sk-container-id-1 {color: black;background-color: white;}#sk-container-id-1 pre{padding: 0;}#sk-container-id-1 div.sk-toggleable {background-color: white;}#sk-container-id-1 label.sk-toggleable__label {cursor: pointer;display: block;width: 100%;margin-bottom: 0;padding: 0.3em;box-sizing: border-box;text-align: center;}#sk-container-id-1 label.sk-toggleable__label-arrow:before {content: \"▸\";float: left;margin-right: 0.25em;color: #696969;}#sk-container-id-1 label.sk-toggleable__label-arrow:hover:before {color: black;}#sk-container-id-1 div.sk-estimator:hover label.sk-toggleable__label-arrow:before {color: black;}#sk-container-id-1 div.sk-toggleable__content {max-height: 0;max-width: 0;overflow: hidden;text-align: left;background-color: #f0f8ff;}#sk-container-id-1 div.sk-toggleable__content pre {margin: 0.2em;color: black;border-radius: 0.25em;background-color: #f0f8ff;}#sk-container-id-1 input.sk-toggleable__control:checked~div.sk-toggleable__content {max-height: 200px;max-width: 100%;overflow: auto;}#sk-container-id-1 input.sk-toggleable__control:checked~label.sk-toggleable__label-arrow:before {content: \"▾\";}#sk-container-id-1 div.sk-estimator input.sk-toggleable__control:checked~label.sk-toggleable__label {background-color: #d4ebff;}#sk-container-id-1 div.sk-label input.sk-toggleable__control:checked~label.sk-toggleable__label {background-color: #d4ebff;}#sk-container-id-1 input.sk-hidden--visually {border: 0;clip: rect(1px 1px 1px 1px);clip: rect(1px, 1px, 1px, 1px);height: 1px;margin: -1px;overflow: hidden;padding: 0;position: absolute;width: 1px;}#sk-container-id-1 div.sk-estimator {font-family: monospace;background-color: #f0f8ff;border: 1px dotted black;border-radius: 0.25em;box-sizing: border-box;margin-bottom: 0.5em;}#sk-container-id-1 div.sk-estimator:hover {background-color: #d4ebff;}#sk-container-id-1 div.sk-parallel-item::after {content: \"\";width: 100%;border-bottom: 1px solid gray;flex-grow: 1;}#sk-container-id-1 div.sk-label:hover label.sk-toggleable__label {background-color: #d4ebff;}#sk-container-id-1 div.sk-serial::before {content: \"\";position: absolute;border-left: 1px solid gray;box-sizing: border-box;top: 0;bottom: 0;left: 50%;z-index: 0;}#sk-container-id-1 div.sk-serial {display: flex;flex-direction: column;align-items: center;background-color: white;padding-right: 0.2em;padding-left: 0.2em;position: relative;}#sk-container-id-1 div.sk-item {position: relative;z-index: 1;}#sk-container-id-1 div.sk-parallel {display: flex;align-items: stretch;justify-content: center;background-color: white;position: relative;}#sk-container-id-1 div.sk-item::before, #sk-container-id-1 div.sk-parallel-item::before {content: \"\";position: absolute;border-left: 1px solid gray;box-sizing: border-box;top: 0;bottom: 0;left: 50%;z-index: -1;}#sk-container-id-1 div.sk-parallel-item {display: flex;flex-direction: column;z-index: 1;position: relative;background-color: white;}#sk-container-id-1 div.sk-parallel-item:first-child::after {align-self: flex-end;width: 50%;}#sk-container-id-1 div.sk-parallel-item:last-child::after {align-self: flex-start;width: 50%;}#sk-container-id-1 div.sk-parallel-item:only-child::after {width: 0;}#sk-container-id-1 div.sk-dashed-wrapped {border: 1px dashed gray;margin: 0 0.4em 0.5em 0.4em;box-sizing: border-box;padding-bottom: 0.4em;background-color: white;}#sk-container-id-1 div.sk-label label {font-family: monospace;font-weight: bold;display: inline-block;line-height: 1.2em;}#sk-container-id-1 div.sk-label-container {text-align: center;}#sk-container-id-1 div.sk-container {/* jupyter's `normalize.less` sets `[hidden] { display: none; }` but bootstrap.min.css set `[hidden] { display: none !important; }` so we also need the `!important` here to be able to override the default hidden behavior on the sphinx rendered scikit-learn.org. See: https://github.com/scikit-learn/scikit-learn/issues/21755 */display: inline-block !important;position: relative;}#sk-container-id-1 div.sk-text-repr-fallback {display: none;}</style><div id=\"sk-container-id-1\" class=\"sk-top-container\"><div class=\"sk-text-repr-fallback\"><pre>DecisionTreeRegressor()</pre><b>In a Jupyter environment, please rerun this cell to show the HTML representation or trust the notebook. <br />On GitHub, the HTML representation is unable to render, please try loading this page with nbviewer.org.</b></div><div class=\"sk-container\" hidden><div class=\"sk-item\"><div class=\"sk-estimator sk-toggleable\"><input class=\"sk-toggleable__control sk-hidden--visually\" id=\"sk-estimator-id-1\" type=\"checkbox\" checked><label for=\"sk-estimator-id-1\" class=\"sk-toggleable__label sk-toggleable__label-arrow\">DecisionTreeRegressor</label><div class=\"sk-toggleable__content\"><pre>DecisionTreeRegressor()</pre></div></div></div></div></div>"
            ]
          },
          "metadata": {},
          "execution_count": 102
        }
      ],
      "source": [
        "#fitting decision tree model\n",
        "dt_model=DecisionTreeRegressor()\n",
        "dt_model.fit(X_train_df,y_train)"
      ],
      "id": "c1ed7441"
    },
    {
      "cell_type": "code",
      "execution_count": 103,
      "metadata": {
        "id": "6836ee15"
      },
      "outputs": [],
      "source": [
        "#to measure the this regression model's rmse\n",
        "dt_pred=dt_model.predict(X_eval_df)\n",
        "dt_mse=mean_squared_error(y_eval,dt_pred)\n",
        "dt_rmse= np.sqrt(dt_mse)\n",
        "dt_MAE=mean_absolute_error(y_eval,dt_pred)\n",
        "dt_rmsle = np.sqrt(mean_squared_log_error(y_eval,dt_pred))"
      ],
      "id": "6836ee15"
    },
    {
      "cell_type": "code",
      "execution_count": null,
      "metadata": {
        "id": "9e20b78c",
        "scrolled": true
      },
      "outputs": [],
      "source": [
        "results=pd.DataFrame([['Decision Tree', dt_mse,dt_rmse,dt_MAE,dt_rmsle]],\n",
        "                     columns = ['Model', 'MSE','RMSE','MAE','RMSLE'])\n",
        "results"
      ],
      "id": "9e20b78c"
    },
    {
      "cell_type": "markdown",
      "metadata": {
        "id": "3fc9f137"
      },
      "source": [
        "## Cleaning Test Data"
      ],
      "id": "3fc9f137"
    },
    {
      "cell_type": "code",
      "execution_count": null,
      "metadata": {
        "id": "0df4f719"
      },
      "outputs": [],
      "source": [
        "test_events_df=pd.merge(test_df,events_df,on='date',how='left')\n",
        "test_events_df.head()"
      ],
      "id": "0df4f719"
    },
    {
      "cell_type": "code",
      "execution_count": null,
      "metadata": {
        "id": "d315d513"
      },
      "outputs": [],
      "source": [
        "oil_test_events=pd.merge(test_events_df,oil_data,on ='date',how= 'left')\n",
        "oil_test_events.head()"
      ],
      "id": "d315d513"
    },
    {
      "cell_type": "code",
      "execution_count": null,
      "metadata": {
        "id": "a00e2129"
      },
      "outputs": [],
      "source": [
        "merged_test=pd.merge(oil_test_events,store_df,on ='store_nbr',how= 'left')\n",
        "merged_test.head()"
      ],
      "id": "a00e2129"
    },
    {
      "cell_type": "code",
      "execution_count": 108,
      "metadata": {
        "id": "43c49e0b"
      },
      "outputs": [],
      "source": [
        "merged_test=merged_test.drop(['id','locale','locale_name','description','transferred','city','type_x'],axis=1)"
      ],
      "id": "43c49e0b"
    },
    {
      "cell_type": "code",
      "execution_count": 109,
      "metadata": {
        "id": "06e67225"
      },
      "outputs": [],
      "source": [
        "merged_test.rename(columns={'type_y':'store_type','family':'products'},inplace =True)"
      ],
      "id": "06e67225"
    },
    {
      "cell_type": "code",
      "execution_count": 110,
      "metadata": {
        "id": "494b2d46"
      },
      "outputs": [],
      "source": [
        "merged_test=merged_test.set_index(['date'])"
      ],
      "id": "494b2d46"
    },
    {
      "cell_type": "code",
      "execution_count": 111,
      "metadata": {
        "id": "632f4f96"
      },
      "outputs": [],
      "source": [
        "merged_test['year'] = merged_test.index.year\n",
        "merged_test['month'] =merged_test.index.month\n",
        "merged_test['day']=merged_test.index.day\n",
        "merged_test['dayofweek']=merged_test.index.weekday\n",
        "merged_test['end_month']=merged_test.index.is_month_end"
      ],
      "id": "632f4f96"
    },
    {
      "cell_type": "code",
      "execution_count": 114,
      "metadata": {
        "id": "733966e1"
      },
      "outputs": [],
      "source": [
        "# categorizing the products\n",
        "food_families = ['BEVERAGES', 'BREAD/BAKERY', 'FROZEN FOODS', 'MEATS', 'PREPARED FOODS', 'DELI','PRODUCE', 'DAIRY','POULTRY','EGGS','SEAFOOD']\n",
        "merged_test['products'] = np.where(merged_test['products'].isin(food_families), 'FOODS', merged_test['products'])\n",
        "home_families = ['HOME AND KITCHEN I', 'HOME AND KITCHEN II', 'HOME APPLIANCES']\n",
        "merged_test['products'] = np.where(merged_test['products'].isin(home_families), 'HOME', merged_test['products'])\n",
        "clothing_families = ['LINGERIE', 'LADYSWARE']\n",
        "merged_test['products'] = np.where(merged_test['products'].isin(clothing_families), 'CLOTHING', merged_test['products'])\n",
        "grocery_families = ['GROCERY I', 'GROCERY II']\n",
        "merged_test['products'] = np.where(merged_test['products'].isin(grocery_families), 'GROCERY', merged_test['products'])\n",
        "stationery_families = ['BOOKS', 'MAGAZINES','SCHOOL AND OFFICE SUPPLIES']\n",
        "merged_test['products'] = np.where(merged_test['products'].isin(stationery_families), 'STATIONERY', merged_test['products'])\n",
        "cleaning_families = ['HOME CARE', 'BABY CARE','PERSONAL CARE']\n",
        "merged_test['products'] = np.where(merged_test['products'].isin(cleaning_families), 'CLEANING', merged_test['products'])\n",
        "hardware_families = ['PLAYERS AND ELECTRONICS','HARDWARE']\n",
        "merged_test['products'] = np.where(merged_test['products'].isin(hardware_families), 'HARDWARE', merged_test['products'])\n",
        "others_families = ['AUTOMOTIVE', 'BEAUTY','CELEBRATION', 'LADIESWEAR', 'LAWN AND GARDEN', 'LIQUOR,WINE,BEER',  'PET SUPPLIES']\n",
        "merged_test['products'] = np.where(merged_test['products'].isin(others_families), 'OTHERS', merged_test['products'])"
      ],
      "id": "733966e1"
    },
    {
      "cell_type": "code",
      "execution_count": 115,
      "metadata": {
        "id": "ba4cc5b7"
      },
      "outputs": [],
      "source": [
        "merged_test.reset_index(inplace=True)"
      ],
      "id": "ba4cc5b7"
    },
    {
      "cell_type": "code",
      "execution_count": null,
      "metadata": {
        "id": "c7329e17"
      },
      "outputs": [],
      "source": [
        "merged_test.shape"
      ],
      "id": "c7329e17"
    },
    {
      "cell_type": "code",
      "execution_count": null,
      "metadata": {
        "id": "cf88c6b1"
      },
      "outputs": [],
      "source": [
        "merged_test.head()"
      ],
      "id": "cf88c6b1"
    },
    {
      "cell_type": "code",
      "execution_count": null,
      "metadata": {
        "id": "KLd-CWQjYGTH"
      },
      "outputs": [],
      "source": [
        "merged_test['products']"
      ],
      "id": "KLd-CWQjYGTH"
    },
    {
      "cell_type": "code",
      "execution_count": 119,
      "metadata": {
        "id": "ClPic2xAD0Pz"
      },
      "outputs": [],
      "source": [
        "merged_test = merged_test.drop(\"date\", axis=1)\n"
      ],
      "id": "ClPic2xAD0Pz"
    },
    {
      "cell_type": "markdown",
      "metadata": {
        "id": "8c5b1301"
      },
      "source": [
        "## Imputing missing values"
      ],
      "id": "8c5b1301"
    },
    {
      "cell_type": "code",
      "execution_count": 120,
      "metadata": {
        "id": "3192eaa7"
      },
      "outputs": [],
      "source": [
        "X_test_cat = merged_test[categorical_columns].copy()\n",
        "X_test_num = merged_test[numerical_columns].copy()"
      ],
      "id": "3192eaa7"
    },
    {
      "cell_type": "code",
      "source": [
        "categorical_columns"
      ],
      "metadata": {
        "colab": {
          "base_uri": "https://localhost:8080/"
        },
        "id": "odXZiRaHoWMp",
        "outputId": "d7627da6-ae00-4158-a485-d269f02ac4df"
      },
      "id": "odXZiRaHoWMp",
      "execution_count": 122,
      "outputs": [
        {
          "output_type": "execute_result",
          "data": {
            "text/plain": [
              "['products', 'end_month', 'store_type', 'state']"
            ]
          },
          "metadata": {},
          "execution_count": 122
        }
      ]
    },
    {
      "cell_type": "code",
      "execution_count": 121,
      "metadata": {
        "id": "7c620341"
      },
      "outputs": [],
      "source": [
        "# fitting imputer\n",
        "X_test_cat_imputed = categorical_imputer.fit_transform(X_test_cat)\n",
        "X_test_num_imputed = numerical_imputer.fit_transform(X_test_num)"
      ],
      "id": "7c620341"
    },
    {
      "cell_type": "markdown",
      "metadata": {
        "id": "2667a0bd"
      },
      "source": [
        "### Feature Encoding"
      ],
      "id": "2667a0bd"
    },
    {
      "cell_type": "code",
      "execution_count": 123,
      "metadata": {
        "id": "ab03b6bd"
      },
      "outputs": [],
      "source": [
        "# encoding the xtrain categories and converting to a dataframe\n",
        "X_test_cat_encoded = encoder.fit(X_test_cat_imputed)\n",
        "X_test_cat_encoded = pd.DataFrame(encoder.transform(X_test_cat_imputed).toarray(),\n",
        "                                   columns=encoder.get_feature_names_out(categorical_columns))"
      ],
      "id": "ab03b6bd"
    },
    {
      "cell_type": "code",
      "execution_count": null,
      "metadata": {
        "id": "vln71SgwJofN"
      },
      "outputs": [],
      "source": [],
      "id": "vln71SgwJofN"
    },
    {
      "cell_type": "markdown",
      "metadata": {
        "id": "43bb31a5"
      },
      "source": [
        "## Data scalling"
      ],
      "id": "43bb31a5"
    },
    {
      "cell_type": "code",
      "execution_count": 124,
      "metadata": {
        "id": "d51d1346"
      },
      "outputs": [],
      "source": [
        "X_test_num_scaled = scaler.fit_transform(X_test_num_imputed)\n",
        "X_test_num_sc = pd.DataFrame(X_test_num_scaled, columns = numerical_columns)"
      ],
      "id": "d51d1346"
    },
    {
      "cell_type": "markdown",
      "metadata": {
        "id": "45be24bf"
      },
      "source": [
        "## Combining xtest cat and xtest num"
      ],
      "id": "45be24bf"
    },
    {
      "cell_type": "code",
      "execution_count": 125,
      "metadata": {
        "id": "1363e1d7"
      },
      "outputs": [],
      "source": [
        "X_test_df = pd.concat([X_test_num_sc,X_test_cat_encoded], axis =1)"
      ],
      "id": "1363e1d7"
    },
    {
      "cell_type": "code",
      "execution_count": null,
      "metadata": {
        "id": "2e0d6692"
      },
      "outputs": [],
      "source": [
        "X_test_df.head()"
      ],
      "id": "2e0d6692"
    },
    {
      "cell_type": "markdown",
      "metadata": {
        "id": "c4893347"
      },
      "source": [
        "## Making predictions with unseen data"
      ],
      "id": "c4893347"
    },
    {
      "cell_type": "code",
      "execution_count": 127,
      "metadata": {
        "id": "3f4f00f9"
      },
      "outputs": [],
      "source": [
        "dtree_predictions=dt_model.predict(X_test_df)"
      ],
      "id": "3f4f00f9"
    },
    {
      "cell_type": "code",
      "execution_count": 128,
      "metadata": {
        "id": "a5ad3567"
      },
      "outputs": [],
      "source": [
        "X_test_df['sales'] = dtree_predictions"
      ],
      "id": "a5ad3567"
    },
    {
      "cell_type": "code",
      "execution_count": 129,
      "metadata": {
        "id": "b3e93758"
      },
      "outputs": [],
      "source": [
        "X_test_df['sales'].to_csv('submission.csv', index=False)"
      ],
      "id": "b3e93758"
    },
    {
      "cell_type": "markdown",
      "metadata": {
        "id": "2aac6cf6"
      },
      "source": [
        "## Exporting Key Componets"
      ],
      "id": "2aac6cf6"
    },
    {
      "cell_type": "code",
      "execution_count": 130,
      "metadata": {
        "id": "93fe0522"
      },
      "outputs": [],
      "source": [
        "if not os.path.exists(\"export\"):\n",
        "    os.makedirs(\"export\")"
      ],
      "id": "93fe0522"
    },
    {
      "cell_type": "code",
      "execution_count": 131,
      "metadata": {
        "id": "e50ae4bf"
      },
      "outputs": [],
      "source": [
        "# set the destination path to the \"export\" directory\n",
        "destination = os.path.join(\".\", \"export\")"
      ],
      "id": "e50ae4bf"
    },
    {
      "cell_type": "code",
      "execution_count": 132,
      "metadata": {
        "id": "db658497"
      },
      "outputs": [],
      "source": [
        "components = {\n",
        "    \"num_imputer\":numerical_imputer,\n",
        "    \"cat_imputer\": categorical_imputer,\n",
        "    \"encoder\": encoder,\n",
        "    \"scaler\": scaler,\n",
        "    \"models\": dt_model\n",
        "}"
      ],
      "id": "db658497"
    },
    {
      "cell_type": "code",
      "execution_count": 133,
      "metadata": {
        "id": "ee83bf81"
      },
      "outputs": [],
      "source": [
        "# Export the model\n",
        "with open(os.path.join(destination, \"dt_model.pkl\"), \"wb\") as f:\n",
        "    pickle.dump(components, f)"
      ],
      "id": "ee83bf81"
    },
    {
      "cell_type": "code",
      "execution_count": 134,
      "metadata": {
        "id": "dfbfd750"
      },
      "outputs": [],
      "source": [
        "!pip list --format=freeze >requirements.txt"
      ],
      "id": "dfbfd750"
    },
    {
      "cell_type": "code",
      "execution_count": null,
      "metadata": {
        "id": "c5496276"
      },
      "outputs": [],
      "source": [
        "merged_test['products'].unique()"
      ],
      "id": "c5496276"
    }
  ],
  "metadata": {
    "colab": {
      "provenance": [],
      "include_colab_link": true
    },
    "kernelspec": {
      "display_name": "Python 3 (ipykernel)",
      "language": "python",
      "name": "python3"
    },
    "language_info": {
      "codemirror_mode": {
        "name": "ipython",
        "version": 3
      },
      "file_extension": ".py",
      "mimetype": "text/x-python",
      "name": "python",
      "nbconvert_exporter": "python",
      "pygments_lexer": "ipython3",
      "version": "3.9.13"
    }
  },
  "nbformat": 4,
  "nbformat_minor": 5
}